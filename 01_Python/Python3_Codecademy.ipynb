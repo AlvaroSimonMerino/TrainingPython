{
 "cells": [
  {
   "cell_type": "markdown",
   "id": "df902a28",
   "metadata": {},
   "source": [
    "# PYTHON 3 CODECADEMY COURSE"
   ]
  },
  {
   "cell_type": "markdown",
   "id": "2c8e373f",
   "metadata": {},
   "source": [
    "## LESSON 1 - \"HELLO WORLD\""
   ]
  },
  {
   "cell_type": "markdown",
   "id": "88f8493d",
   "metadata": {},
   "source": [
    "### Comments\n",
    "\n",
    "Ironically, the first thing we’re going to do is show how to tell a computer to ignore a part of a program. Text written in a program but not run by the computer is called a comment. Python interprets anything after a # as a comment.\n",
    "\n",
    "Comments can:\n",
    "\n",
    "Provide context for why something is written the way it is:"
   ]
  },
  {
   "cell_type": "code",
   "execution_count": null,
   "id": "eafae195",
   "metadata": {},
   "outputs": [],
   "source": [
    "# This variable will be used to count the number of times anyone tweets the word persnickety\n",
    "persnickety_count = 0"
   ]
  },
  {
   "cell_type": "markdown",
   "id": "4087730e",
   "metadata": {},
   "source": [
    "Help other people reading the code understand it faster:"
   ]
  },
  {
   "cell_type": "code",
   "execution_count": null,
   "id": "960a6c27",
   "metadata": {},
   "outputs": [],
   "source": [
    "# This code will calculate the likelihood that it will rain tomorrow\n",
    "complicated_rain_calculation_for_tomorrow()"
   ]
  },
  {
   "cell_type": "markdown",
   "id": "36161214",
   "metadata": {},
   "source": [
    "Ignore a line of code and see how a program will run without it:"
   ]
  },
  {
   "cell_type": "code",
   "execution_count": null,
   "id": "3f68310d",
   "metadata": {},
   "outputs": [],
   "source": [
    "# useful_value = old_sloppy_code()\n",
    "useful_value = new_clean_code()"
   ]
  },
  {
   "cell_type": "markdown",
   "id": "cac5c2eb",
   "metadata": {},
   "source": [
    "#### Instructions \n",
    "\n",
    "1.\n",
    "Documentation is an important step in programming. Write a comment describing the first program you want to write!"
   ]
  },
  {
   "cell_type": "markdown",
   "id": "563e90d2",
   "metadata": {},
   "source": [
    "### CODE"
   ]
  },
  {
   "cell_type": "code",
   "execution_count": 1,
   "id": "ad257ef5",
   "metadata": {},
   "outputs": [
    {
     "name": "stdout",
     "output_type": "stream",
     "text": [
      "Hello World\n"
     ]
    }
   ],
   "source": [
    "# I want to write \"Hello World\"\n",
    "welcome = \"Hello World\"\n",
    "print(welcome)"
   ]
  },
  {
   "cell_type": "markdown",
   "id": "70baebbb",
   "metadata": {},
   "source": [
    "                                                .\n",
    "                                                .\n",
    "                                                ."
   ]
  },
  {
   "cell_type": "markdown",
   "id": "15c4c979",
   "metadata": {},
   "source": [
    "### Print\n",
    "\n",
    "Now what we’re going to do is teach our computer to communicate. The gift of speech is valuable: a computer can answer many questions we have about “how” or “why” or “what” it is doing. In Python, the print() function is used to tell a computer to talk. The message to be printed should be surrounded by quotes:\n"
   ]
  },
  {
   "cell_type": "code",
   "execution_count": null,
   "id": "b3ef3f98",
   "metadata": {},
   "outputs": [],
   "source": [
    "#from Mary Shelley's Frankenstein\n",
    "print(\"There is something at work in my soul, which I do not understand.\")"
   ]
  },
  {
   "cell_type": "markdown",
   "id": "e9925ca5",
   "metadata": {},
   "source": [
    "In the above example, we direct our program to print() an excerpt from a notable book. The printed words that appear as a result of the print() function are referred to as output. The output of this example program would be:\n",
    "\n",
    "*There is something at work in my soul, which I do not understand.*"
   ]
  },
  {
   "cell_type": "markdown",
   "id": "acf1464d",
   "metadata": {},
   "source": [
    "#### Instructions\n",
    "\n",
    "1.\n",
    "Print the distinguished greeting “Hello world!”"
   ]
  },
  {
   "cell_type": "markdown",
   "id": "f2681676",
   "metadata": {},
   "source": [
    "### CODE"
   ]
  },
  {
   "cell_type": "code",
   "execution_count": 2,
   "id": "7db7de59",
   "metadata": {},
   "outputs": [
    {
     "name": "stdout",
     "output_type": "stream",
     "text": [
      "Hello World\n"
     ]
    }
   ],
   "source": [
    "print(\"Hello World\")"
   ]
  },
  {
   "cell_type": "markdown",
   "id": "13b3c07e",
   "metadata": {},
   "source": [
    "                                                .\n",
    "                                                .\n",
    "                                                ."
   ]
  },
  {
   "cell_type": "markdown",
   "id": "da544e1f",
   "metadata": {},
   "source": [
    "### Strings\n",
    "\n",
    "Computer programmers refer to blocks of text as strings. In our last exercise, we created the string “Hello world!”. In Python a string is either surrounded by double quotes (\"Hello world\") or single quotes ('Hello world'). It doesn’t matter which kind you use, just be consistent."
   ]
  },
  {
   "cell_type": "markdown",
   "id": "e4f9ba77",
   "metadata": {},
   "source": [
    "#### Instructions\n",
    "\n",
    "1.\n",
    "Print your name using the print() command.\n",
    "\n",
    "2.\n",
    "If your print statement uses double-quotes \", change them to single-quotes '. If it uses single-quotes ', change them to double-quotes \".\n",
    "\n",
    "Try running your code again after switching the type of quote-marks. Is anything different about the output?"
   ]
  },
  {
   "cell_type": "markdown",
   "id": "3bf6d517",
   "metadata": {},
   "source": [
    "### CODE"
   ]
  },
  {
   "cell_type": "code",
   "execution_count": 3,
   "id": "278235e5",
   "metadata": {},
   "outputs": [
    {
     "name": "stdout",
     "output_type": "stream",
     "text": [
      "Alvaro Simon Merino\n",
      "Alvaro Simón Merino\n"
     ]
    }
   ],
   "source": [
    "print(\"Alvaro Simon Merino\")\n",
    "print('Alvaro Simón Merino')"
   ]
  },
  {
   "cell_type": "markdown",
   "id": "cdce1389",
   "metadata": {},
   "source": [
    "                                                .\n",
    "                                                .\n",
    "                                                ."
   ]
  },
  {
   "cell_type": "markdown",
   "id": "92681c10",
   "metadata": {},
   "source": [
    "### Variables\n",
    "\n",
    "Programming languages offer a method of storing data for reuse. If there is a greeting we want to present, a date we need to reuse, or a user ID we need to remember we can create a variable which can store a value. In Python, we assign variables by using the equals sign (=)."
   ]
  },
  {
   "cell_type": "code",
   "execution_count": 4,
   "id": "d8589f14",
   "metadata": {},
   "outputs": [
    {
     "name": "stdout",
     "output_type": "stream",
     "text": [
      "Hello there\n"
     ]
    }
   ],
   "source": [
    "message_string = \"Hello there\"\n",
    "# Prints \"Hello there\"\n",
    "print(message_string)"
   ]
  },
  {
   "cell_type": "markdown",
   "id": "d56a37ac",
   "metadata": {},
   "source": [
    "In the above example, we store the message “Hello there” in a variable called message_string. Variables can’t have spaces or symbols in their names other than an underscore (_). They can’t begin with numbers but they can have numbers after the first letter (e.g., cool_variable_5 is OK).\n",
    "\n",
    "It’s no coincidence we call these creatures “variables”. If the context of a program changes, we can update a variable but perform the same logical process on it."
   ]
  },
  {
   "cell_type": "code",
   "execution_count": 5,
   "id": "df13e7dd",
   "metadata": {},
   "outputs": [
    {
     "name": "stdout",
     "output_type": "stream",
     "text": [
      "Hello there\n",
      "Hasta la vista\n"
     ]
    }
   ],
   "source": [
    "# Greeting\n",
    "message_string = \"Hello there\"\n",
    "print(message_string)\n",
    "\n",
    "# Farewell\n",
    "message_string = \"Hasta la vista\"\n",
    "print(message_string)"
   ]
  },
  {
   "cell_type": "markdown",
   "id": "6fdcae62",
   "metadata": {},
   "source": [
    "Above, we create the variable message_string, assign a welcome message, and print the greeting. After we greet the user, we want to wish them goodbye. We then update message_string to a departure message and print that out."
   ]
  },
  {
   "cell_type": "markdown",
   "id": "29aed3b1",
   "metadata": {},
   "source": [
    "#### Instructions\n",
    "\n",
    "1.\n",
    "Update the variable meal to reflect each meal of the day before we print it."
   ]
  },
  {
   "cell_type": "markdown",
   "id": "7967aff1",
   "metadata": {},
   "source": [
    "### CODE"
   ]
  },
  {
   "cell_type": "code",
   "execution_count": null,
   "id": "0958fcda",
   "metadata": {},
   "outputs": [],
   "source": [
    "# We've defined the variable \"meal\" here to the name of the food we ate for breakfast!\n",
    "meal = \"An english muffin\"\n",
    "\n",
    "# Printing out breakfast\n",
    "print(\"Breakfast:\")\n",
    "print(meal)\n",
    "\n",
    "# Now update meal to be lunch!\n",
    "meal = \"Chicken and rice\"\n",
    "\n",
    "# Printing out lunch\n",
    "print(\"Lunch:\")\n",
    "print(meal)\n",
    "\n",
    "# Now update \"meal\" to be dinner\n",
    "meal = \"Salad and yogurt\"\n",
    "\n",
    "# Printing out dinner\n",
    "print(\"Dinner:\")\n",
    "print(meal)"
   ]
  },
  {
   "cell_type": "markdown",
   "id": "af9392d4",
   "metadata": {},
   "source": [
    "                                                .\n",
    "                                                .\n",
    "                                                ."
   ]
  },
  {
   "cell_type": "markdown",
   "id": "9c93a5c1",
   "metadata": {},
   "source": [
    "### Errors\n",
    "\n",
    "Humans are prone to making mistakes. Humans are also typically in charge of creating computer programs. To compensate, programming languages attempt to understand and explain mistakes made in their programs.\n",
    "\n",
    "Python refers to these mistakes as errors and will point to the location where an error occurred with a ^ character. When programs throw errors that we didn’t expect to encounter we call those errors bugs. Programmers call the process of updating the program so that it no longer produces unexpected errors debugging.\n",
    "\n",
    "Two common errors that we encounter while writing Python are SyntaxError and NameError.\n",
    "\n",
    "SyntaxError means there is something wrong with the way your program is written — punctuation that does not belong, a command where it is not expected, or a missing parenthesis can all trigger a SyntaxError.\n",
    "\n",
    "A NameError occurs when the Python interpreter sees a word it does not recognize. Code that contains something that looks like a variable but was never defined will throw a NameError."
   ]
  },
  {
   "cell_type": "markdown",
   "id": "efe32d03",
   "metadata": {},
   "source": [
    "#### Instructions\n",
    "\n",
    "1.\n",
    "You might encounter a SyntaxError if you open a string with double quotes and end it with a single quote. Update the string so that it starts and ends with the same punctuation.\n",
    "\n",
    "You might encounter a NameError if you try to print a single word string but fail to put any quotes around it. Python expects the word of your string to be defined elsewhere but can’t find where it’s defined. Add quotes to either side of the string to squash this bug.\n",
    "\n",
    "Update the malformed strings in the workspace to all be strings."
   ]
  },
  {
   "cell_type": "markdown",
   "id": "38abc86b",
   "metadata": {},
   "source": [
    "### CODE"
   ]
  },
  {
   "cell_type": "code",
   "execution_count": null,
   "id": "8d90883f",
   "metadata": {},
   "outputs": [],
   "source": [
    "print(\"This message has mismatched quote marks!\")\n",
    "print(\"Abracadabra\")"
   ]
  },
  {
   "cell_type": "markdown",
   "id": "285c31b9",
   "metadata": {},
   "source": [
    "                                                .\n",
    "                                                .\n",
    "                                                ."
   ]
  },
  {
   "cell_type": "markdown",
   "id": "48a924d9",
   "metadata": {},
   "source": [
    "### Numbers\n",
    "\n",
    "Computers can understand much more than just strings of text. Python has a few numeric data types. It has multiple ways of storing numbers. Which one you use depends on your intended purpose for the number you are saving.\n",
    "\n",
    "An integer, or int, is a whole number. It has no decimal point and contains all counting numbers (1, 2, 3, …) as well as their negative counterparts and the number 0. If you were counting the number of people in a room, the number of jellybeans in a jar, or the number of keys on a keyboard you would likely use an integer.\n",
    "\n",
    "A floating-point number, or a float, is a decimal number. It can be used to represent fractional quantities as well as precise measurements. If you were measuring the length of your bedroom wall, calculating the average test score of a seventh-grade class, or storing a baseball player’s batting average for the 1998 season you would likely use a float.\n",
    "\n",
    "Numbers can be assigned to variables or used literally in a program:"
   ]
  },
  {
   "cell_type": "code",
   "execution_count": null,
   "id": "576b3bba",
   "metadata": {},
   "outputs": [],
   "source": [
    "an_int = 2\n",
    "a_float = 2.1\n",
    " \n",
    "print(an_int + 3)\n",
    "# Output: 5"
   ]
  },
  {
   "cell_type": "markdown",
   "id": "3f1253ed",
   "metadata": {},
   "source": [
    "Above we defined an integer and a float as the variables an_int and a_float. We printed out the sum of the variable an_int with the number 3. We call the number 3 here a literal, meaning it’s actually the number 3 and not a variable with the number 3 assigned to it.\n",
    "\n",
    "Floating-point numbers can behave in some unexpected ways due to how computers store them. For more information on floating-point numbers and Python, review Python’s documentation on floating-point limitations: https://docs.python.org/3/tutorial/floatingpoint.html"
   ]
  },
  {
   "cell_type": "markdown",
   "id": "f00ee154",
   "metadata": {},
   "source": [
    "#### Instructions\n",
    "\n",
    "1.\n",
    "A recent movie-going experience has you excited to publish a review. You rush out of the cinema and hastily begin programming to create your movie-review website: The Big Screen’s Greatest Scenes Decided By A Machine.\n",
    "\n",
    "Create the following variables and assign integer numbers to them: release_year and runtime.\n",
    "\n",
    "2.\n",
    "Now, create the variable rating_out_of_10 and assign it a float number between one and ten."
   ]
  },
  {
   "cell_type": "markdown",
   "id": "2c02bea8",
   "metadata": {},
   "source": [
    "### CODE"
   ]
  },
  {
   "cell_type": "code",
   "execution_count": null,
   "id": "5d4806e7",
   "metadata": {},
   "outputs": [],
   "source": [
    "# Define the release and runtime integer variables below:\n",
    "release_year = 2015\n",
    "runtime = 3\n",
    "\n",
    "\n",
    "# Define the rating_out_of_10 float variable below: \n",
    "rating_out_of_10 = 8.7"
   ]
  },
  {
   "cell_type": "markdown",
   "id": "b4a47f87",
   "metadata": {},
   "source": [
    "                                                .\n",
    "                                                .\n",
    "                                                ."
   ]
  },
  {
   "cell_type": "markdown",
   "id": "85607311",
   "metadata": {},
   "source": [
    "### Calculations\n",
    "\n",
    "Computers absolutely excel at performing calculations. The “compute” in their name comes from their historical association with providing answers to mathematical questions. Python performs addition, subtraction, multiplication, and division with +, -, *, and /."
   ]
  },
  {
   "cell_type": "code",
   "execution_count": null,
   "id": "0b12d910",
   "metadata": {},
   "outputs": [],
   "source": [
    "# Prints \"500\"\n",
    "print(573 - 74 + 1)\n",
    " \n",
    "# Prints \"50\"\n",
    "print(25 * 2)\n",
    " \n",
    "# Prints \"2.0\"\n",
    "print(10 / 5)"
   ]
  },
  {
   "cell_type": "markdown",
   "id": "2d7d4f88",
   "metadata": {},
   "source": [
    "Notice that when we perform division, the result has a decimal place. This is because Python converts all ints to floats before performing division. In older versions of Python (2.7 and earlier) this conversion did not happen, and integer division would always round down to the nearest integer.\n",
    "\n",
    "Division can throw its own special error: ZeroDivisionError. Python will raise this error when attempting to divide by 0.\n",
    "\n",
    "Mathematical operations in Python follow the standard mathematical order of operations."
   ]
  },
  {
   "cell_type": "markdown",
   "id": "0a5e1d40",
   "metadata": {},
   "source": [
    "#### Instructions\n",
    "\n",
    "1.\n",
    "Print out the result of this equation: 25 * 68 + 13 / 28"
   ]
  },
  {
   "cell_type": "markdown",
   "id": "253b88fe",
   "metadata": {},
   "source": [
    "### CODE"
   ]
  },
  {
   "cell_type": "code",
   "execution_count": null,
   "id": "72832d1f",
   "metadata": {},
   "outputs": [],
   "source": [
    "equation = 25 * 68 + 13/28\n",
    "print(equation)"
   ]
  },
  {
   "cell_type": "markdown",
   "id": "02fe77c7",
   "metadata": {},
   "source": [
    "                                                .\n",
    "                                                .\n",
    "                                                ."
   ]
  },
  {
   "cell_type": "markdown",
   "id": "94e3845c",
   "metadata": {},
   "source": [
    "### Changing Numbers\n",
    "\n",
    "Variables that are assigned numeric values can be treated the same as the numbers themselves. Two variables can be added together, divided by 2, and multiplied by a third variable without Python distinguishing between the variables and literals (like the number 2 in this example). Performing arithmetic on variables does not change the variable — you can only update a variable using the = sign."
   ]
  },
  {
   "cell_type": "code",
   "execution_count": null,
   "id": "89ce0e66",
   "metadata": {},
   "outputs": [],
   "source": [
    "coffee_price = 1.50\n",
    "number_of_coffees = 4\n",
    " \n",
    "# Prints \"6.0\"\n",
    "print(coffee_price * number_of_coffees)\n",
    "# Prints \"1.5\"\n",
    "print(coffee_price)\n",
    "# Prints \"4\"\n",
    "print(number_of_coffees)\n",
    " \n",
    "# Updating the price \n",
    "coffee_price = 2.00\n",
    " \n",
    "# Prints \"8.0\"\n",
    "print(coffee_price * number_of_coffees)\n",
    "# Prints \"2.0\"\n",
    "print(coffee_price)\n",
    "# Prints \"4\"\n",
    "print(number_of_coffees)"
   ]
  },
  {
   "cell_type": "markdown",
   "id": "3f9d518f",
   "metadata": {},
   "source": [
    "We create two variables and assign numeric values to them. Then we perform a calculation on them. This doesn’t update the variables! When we update the coffee_price variable and perform the calculations again, they use the updated values for the variable!"
   ]
  },
  {
   "cell_type": "markdown",
   "id": "6de28f5b",
   "metadata": {},
   "source": [
    "#### Instructions\n",
    "\n",
    "1.\n",
    "You’ve decided to get into quilting! To calculate the number of squares you’ll need for your first quilt let’s create two variables: quilt_width and quilt_length. Let’s make this first quilt 8 squares wide and 12 squares long.\n",
    "\n",
    "2.\n",
    "Print out the number of squares you’ll need to create the quilt!\n",
    "\n",
    "3.\n",
    "It turns out that quilt required a little more material than you have on hand! Let’s only make the quilt 8 squares long. How many squares will you need for this quilt instead?"
   ]
  },
  {
   "cell_type": "markdown",
   "id": "e1f8f102",
   "metadata": {},
   "source": [
    "### CODE"
   ]
  },
  {
   "cell_type": "code",
   "execution_count": null,
   "id": "5d43572e",
   "metadata": {},
   "outputs": [],
   "source": [
    "# First we tackle instruction number 1\n",
    "quilt_width = 8\n",
    "quilt_length = 12\n",
    "\n",
    "# Now we pass onto number 2\n",
    "squares = quilt_width * quilt_length\n",
    "print(squares)\n",
    "\n",
    "\n",
    "# Finally we tackle number 3\n",
    "quilt_length = 8\n",
    "squares = quilt_width * quilt_length\n",
    "print(squares)\n"
   ]
  },
  {
   "cell_type": "markdown",
   "id": "3dd4b6b7",
   "metadata": {},
   "source": [
    "                                                .\n",
    "                                                .\n",
    "                                                ."
   ]
  },
  {
   "cell_type": "markdown",
   "id": "f2a5902b",
   "metadata": {},
   "source": [
    "### Exponents\n",
    "\n",
    "Python can also perform exponentiation. In written math, you might see an exponent as a superscript number, but typing superscript numbers isn’t always easy on modern keyboards. Since this operation is so related to multiplication, we use the notation **."
   ]
  },
  {
   "cell_type": "code",
   "execution_count": null,
   "id": "b94f954b",
   "metadata": {},
   "outputs": [],
   "source": [
    "# 2 to the 10th power, or 1024\n",
    "print(2 ** 10)\n",
    " \n",
    "# 8 squared, or 64\n",
    "print(8 ** 2)\n",
    " \n",
    "# 9 * 9 * 9, 9 cubed, or 729\n",
    "print(9 ** 3)\n",
    " \n",
    "# We can even perform fractional exponents\n",
    "# 4 to the half power, or 2\n",
    "print(4 ** 0.5)"
   ]
  },
  {
   "cell_type": "markdown",
   "id": "cdd84807",
   "metadata": {},
   "source": [
    "Here, we compute some simple exponents. We calculate 2 to the 10th power, 8 to the 2nd power, 9 to the 3rd power, and 4 to the 0.5th power."
   ]
  },
  {
   "cell_type": "markdown",
   "id": "1c1d5c7f",
   "metadata": {},
   "source": [
    "#### Instructions\n",
    "\n",
    "1.\n",
    "You really like how the square quilts from last exercise came out, and decide that all quilts that you make will be square from now on.\n",
    "\n",
    "Using the exponent operator, print out how many squares you’ll need for a 6x6 quilt, a 7x7 quilt, and an 8x8 quilt.\n",
    "\n",
    "2.\n",
    "Your 6x6 quilts have taken off so well, 6 people have each requested 6 quilts. Print out how many tiles you would need to make 6 quilts apiece for 6 people."
   ]
  },
  {
   "cell_type": "markdown",
   "id": "1bab6425",
   "metadata": {},
   "source": [
    "### CODE"
   ]
  },
  {
   "cell_type": "code",
   "execution_count": null,
   "id": "ca440af4",
   "metadata": {},
   "outputs": [],
   "source": [
    "# Calculation of squares for:\n",
    "# 6x6 quilt\n",
    "sixbysix_quilt = 6 ** 2\n",
    "print(sixbysix_quilt)\n",
    "\n",
    "# 7x7 quilt\n",
    "sevenbyseven_quilt = 7 ** 2\n",
    "print(sevenbyseven_quilt)\n",
    "\n",
    "# 8x8 quilt\n",
    "eightbyeight_quilt = 8 ** 2\n",
    "print(eightbyeight_quilt)\n",
    "\n",
    "# Squares for 6 quilts for 6 people\n",
    "result = sixbysix_quilt ** 2\n",
    "print(result)"
   ]
  },
  {
   "cell_type": "markdown",
   "id": "efd533c2",
   "metadata": {},
   "source": [
    "                                                .\n",
    "                                                .\n",
    "                                                ."
   ]
  },
  {
   "cell_type": "markdown",
   "id": "a6d024b2",
   "metadata": {},
   "source": [
    "### Modulo\n",
    "\n",
    "Python offers a companion to the division operator called the modulo operator. The modulo operator is indicated by % and gives the remainder of a division calculation. If the number is divisible, then the result of the modulo operator will be 0."
   ]
  },
  {
   "cell_type": "code",
   "execution_count": null,
   "id": "b4cf529d",
   "metadata": {},
   "outputs": [],
   "source": [
    "# Prints 4 because 29 / 5 is 5 with a remainder of 4\n",
    "print(29 % 5)\n",
    " \n",
    "# Prints 2 because 32 / 3 is 10 with a remainder of 2\n",
    "print(32 % 3)\n",
    " \n",
    "# Modulo by 2 returns 0 for even numbers and 1 for odd numbers\n",
    "# Prints 0\n",
    "print(44 % 2)"
   ]
  },
  {
   "cell_type": "markdown",
   "id": "05bd41fe",
   "metadata": {},
   "source": [
    "Here, we use the modulo operator to find the remainder of division operations. We see that 29 % 5 equals 4, 32 % 3 equals 2, and 44 % 2 equals 0.\n",
    "\n",
    "The modulo operator is useful in programming when we want to perform an action every nth-time the code is run. Can the result of a modulo operation be larger than the divisor? Why or why not?"
   ]
  },
  {
   "cell_type": "markdown",
   "id": "53e3557b",
   "metadata": {},
   "source": [
    "#### Instructions\n",
    "\n",
    "1.\n",
    "You’re trying to divide a group into four teams. All of you count off, and you get number 27.\n",
    "\n",
    "Find out your team by computing 27 modulo 4. Save the value to my_team.\n",
    "\n",
    "2.\n",
    "Print out my_team. What number team are you on?\n",
    "\n",
    "3.\n",
    "Food for thought: what number team are the two people next to you (26 and 28) on? What are the numbers for all 4 teams? (Optional Challenge Question)"
   ]
  },
  {
   "cell_type": "markdown",
   "id": "31894ad1",
   "metadata": {},
   "source": [
    "### CODE"
   ]
  },
  {
   "cell_type": "code",
   "execution_count": null,
   "id": "d06c2957",
   "metadata": {},
   "outputs": [],
   "source": [
    "# my_team modulo 4 de 27\n",
    "my_team = 27 % 4\n",
    "print(my_team)\n",
    "\n",
    "# FOod for thought\n",
    "# number 26 is in team 3 and number 28 in team 4\n",
    "# the total number for all 4 teams is 32\n"
   ]
  },
  {
   "cell_type": "markdown",
   "id": "d8726079",
   "metadata": {},
   "source": [
    "                                                .\n",
    "                                                .\n",
    "                                                ."
   ]
  },
  {
   "cell_type": "markdown",
   "id": "a9c425f2",
   "metadata": {},
   "source": [
    "### Concatenation\n",
    "\n",
    "The + operator doesn’t just add two numbers, it can also “add” two strings! The process of combining two strings is called string concatenation. Performing string concatenation creates a brand new string comprised of the first string’s contents followed by the second string’s contents (without any added space in-between)."
   ]
  },
  {
   "cell_type": "code",
   "execution_count": null,
   "id": "2b43f611",
   "metadata": {},
   "outputs": [],
   "source": [
    "greeting_text = \"Hey there!\"\n",
    "question_text = \"How are you doing?\"\n",
    "full_text = greeting_text + question_text\n",
    " \n",
    "# Prints \"Hey there!How are you doing?\"\n",
    "print(full_text)"
   ]
  },
  {
   "cell_type": "markdown",
   "id": "3397a294",
   "metadata": {},
   "source": [
    "In this sample of code, we create two variables that hold strings and then concatenate them. But we notice that the result was missing a space between the two, let’s add the space in-between using the same concatenation operator!"
   ]
  },
  {
   "cell_type": "code",
   "execution_count": null,
   "id": "fc59b646",
   "metadata": {},
   "outputs": [],
   "source": [
    "full_text = greeting_text + \" \" + question_text\n",
    " \n",
    "# Prints \"Hey there! How are you doing?\"\n",
    "print(full_text)"
   ]
  },
  {
   "cell_type": "markdown",
   "id": "7602ebc3",
   "metadata": {},
   "source": [
    "Now the code prints the message we expected.\n",
    "\n",
    "If you want to concatenate a string with a number you will need to make the number a string first, using the str() function. If you’re trying to print() a numeric variable you can use commas to pass it as a different argument rather than converting it to a string."
   ]
  },
  {
   "cell_type": "code",
   "execution_count": null,
   "id": "1c3bec67",
   "metadata": {},
   "outputs": [],
   "source": [
    "birthday_string = \"I am \"\n",
    "age = 10\n",
    "birthday_string_2 = \" years old today!\"\n",
    " \n",
    "# Concatenating an integer with strings is possible if we turn the integer into a string first\n",
    "full_birthday_string = birthday_string + str(age) + birthday_string_2\n",
    " \n",
    "# Prints \"I am 10 years old today!\"\n",
    "print(full_birthday_string)\n",
    " \n",
    "# If we just want to print an integer \n",
    "# we can pass a variable as an argument to \n",
    "# print() regardless of whether \n",
    "# it is a string.\n",
    " \n",
    "# This also prints \"I am 10 years old today!\"\n",
    "print(birthday_string, age, birthday_string_2)"
   ]
  },
  {
   "cell_type": "markdown",
   "id": "ac13b6d0",
   "metadata": {},
   "source": [
    "Using str() we can convert variables that are not strings to strings and then concatenate them. But we don’t need to convert a number to a string for it to be an argument to a print statement."
   ]
  },
  {
   "cell_type": "markdown",
   "id": "74106531",
   "metadata": {},
   "source": [
    "#### Instructions\n",
    "\n",
    "1.\n",
    "Concatenate the strings and save the message they form in the variable message.\n",
    "\n",
    "Now uncomment the print statement and run your code to see the result in the terminal!"
   ]
  },
  {
   "cell_type": "markdown",
   "id": "aac166ba",
   "metadata": {},
   "source": [
    "### CODE"
   ]
  },
  {
   "cell_type": "code",
   "execution_count": null,
   "id": "21cd7764",
   "metadata": {},
   "outputs": [],
   "source": [
    "string1 = \"The wind, \"\n",
    "string2 = \"which had hitherto carried us along with amazing rapidity, \"\n",
    "string3 = \"sank at sunset to a light breeze; \"\n",
    "string4 = \"the soft air just ruffled the water and \"\n",
    "string5 = \"caused a pleasant motion among the trees as we approached the shore, \"\n",
    "string6 = \"from which it wafted the most delightful scent of flowers and hay.\"\n",
    "\n",
    "# Define message below:\n",
    "message = string1 + string2 + string3 + string4 + string5 + string6\n",
    "\n",
    "print(message)"
   ]
  },
  {
   "cell_type": "markdown",
   "id": "bc2acc85",
   "metadata": {},
   "source": [
    "                                                .\n",
    "                                                .\n",
    "                                                ."
   ]
  },
  {
   "cell_type": "markdown",
   "id": "556050e6",
   "metadata": {},
   "source": [
    "### Plus Equals\n",
    "\n",
    "Python offers a shorthand for updating variables. When you have a number saved in a variable and want to add to the current value of the variable, you can use the += (plus-equals) operator."
   ]
  },
  {
   "cell_type": "code",
   "execution_count": null,
   "id": "75891622",
   "metadata": {},
   "outputs": [],
   "source": [
    "# First we have a variable with a number saved\n",
    "number_of_miles_hiked = 12\n",
    " \n",
    "# Then we need to update that variable\n",
    "# Let's say we hike another two miles today\n",
    "number_of_miles_hiked += 2\n",
    " \n",
    "# The new value is the old value\n",
    "# Plus the number after the plus-equals\n",
    "print(number_of_miles_hiked)\n",
    "# Prints 14"
   ]
  },
  {
   "cell_type": "markdown",
   "id": "ae6e2efe",
   "metadata": {},
   "source": [
    "Above, we keep a running count of the number of miles a person has gone hiking over time. Instead of recalculating from the start, we keep a grand total and update it when we’ve gone hiking further."
   ]
  },
  {
   "cell_type": "code",
   "execution_count": null,
   "id": "02ab5441",
   "metadata": {},
   "outputs": [],
   "source": [
    "The plus-equals operator also can be used for string concatenation, like so:\n",
    "\n",
    "hike_caption = \"What an amazing time to walk through nature!\"\n",
    " \n",
    "# Almost forgot the hashtags!\n",
    "hike_caption += \" #nofilter\"\n",
    "hike_caption += \" #blessed\""
   ]
  },
  {
   "cell_type": "markdown",
   "id": "a1576c84",
   "metadata": {},
   "source": [
    "We create the social media caption for the photograph of nature we took on our hike, but then update the caption to include important social media tags we almost forgot."
   ]
  },
  {
   "cell_type": "markdown",
   "id": "44757a5d",
   "metadata": {},
   "source": [
    "#### Instructions\n",
    "\n",
    "1.\n",
    "We’re doing a little bit of online shopping and find a pair of new sneakers. Right before we check out, we spot a nice sweater and some fun books we also want to purchase!\n",
    "\n",
    "Use the += operator to update the total_price to include the prices of nice_sweater and fun_books.\n",
    "\n",
    "The prices (also included in the workspace) are:\n",
    "\n",
    "- new_sneakers = 50.00\n",
    "- nice_sweater = 39.00\n",
    "- fun_books = 20.00"
   ]
  },
  {
   "cell_type": "markdown",
   "id": "6bb8eca6",
   "metadata": {},
   "source": [
    "### CODE"
   ]
  },
  {
   "cell_type": "code",
   "execution_count": null,
   "id": "797ce837",
   "metadata": {},
   "outputs": [],
   "source": [
    "total_price = 0\n",
    "\n",
    "new_sneakers = 50.00\n",
    "\n",
    "total_price += new_sneakers\n",
    "\n",
    "nice_sweater = 39.00\n",
    "fun_books = 20.00\n",
    "# Update total_price here: \n",
    "total_price = new_sneakers + nice_sweater + fun_books\n",
    "\n",
    "print(\"The total price is\", total_price)"
   ]
  },
  {
   "cell_type": "markdown",
   "id": "cca420cc",
   "metadata": {},
   "source": [
    "                                                .\n",
    "                                                .\n",
    "                                                ."
   ]
  },
  {
   "cell_type": "markdown",
   "id": "46a0295e",
   "metadata": {},
   "source": [
    "### Multi-line Strings\n",
    "\n",
    "Python strings are very flexible, but if we try to create a string that occupies multiple lines we find ourselves face-to-face with a SyntaxError. Python offers a solution: multi-line strings. By using three quote-marks (\"\"\" or ''') instead of one, we tell the program that the string doesn’t end until the next triple-quote. This method is useful if the string being defined contains a lot of quotation marks and we want to be sure we don’t close it prematurely."
   ]
  },
  {
   "cell_type": "code",
   "execution_count": null,
   "id": "9baa7b1b",
   "metadata": {},
   "outputs": [],
   "source": [
    "leaves_of_grass = \"\"\"\n",
    "Poets to come! orators, singers, musicians to come!\n",
    "Not to-day is to justify me and answer what I am for,\n",
    "But you, a new brood, native, athletic, continental, greater than\n",
    "  before known,\n",
    "Arouse! for you must justify me.\n",
    "\"\"\""
   ]
  },
  {
   "cell_type": "markdown",
   "id": "6efacde7",
   "metadata": {},
   "source": [
    "In the above example, we assign a famous poet’s words to a variable. Even though the quote contains multiple linebreaks, the code works!\n",
    "\n",
    "If a multi-line string isn’t assigned a variable or used in an expression it is treated as a comment."
   ]
  },
  {
   "cell_type": "markdown",
   "id": "83049e21",
   "metadata": {},
   "source": [
    "#### Instructions\n",
    "\n",
    "1.\n",
    "Assign the string\n",
    "\n",
    "Stranger, if you passing meet me and desire to speak to me, why\n",
    "  should you not speak to me?\n",
    "And why should I not speak to you?\n",
    "\n",
    "to the variable to_you."
   ]
  },
  {
   "cell_type": "markdown",
   "id": "960a90c6",
   "metadata": {},
   "source": [
    "### CODE"
   ]
  },
  {
   "cell_type": "code",
   "execution_count": null,
   "id": "f80810c1",
   "metadata": {},
   "outputs": [],
   "source": [
    "to_you = '''Stranger, if you passing meet me and desire to speak to me, why\n",
    "  should you not speak to me?\n",
    "And why should I not speak to you?\n",
    "'''"
   ]
  },
  {
   "cell_type": "markdown",
   "id": "dd21c087",
   "metadata": {},
   "source": [
    "                                                .\n",
    "                                                .\n",
    "                                                ."
   ]
  },
  {
   "cell_type": "markdown",
   "id": "73c79e7d",
   "metadata": {},
   "source": [
    "### Review\n",
    "\n",
    "In this lesson, we accomplished a lot of things! We instructed our computers to print messages, we stored these messages as variables, and we learned to update those messages depending on the part of the program we were in. We performed mathematical calculations and explored some of the mathematical expressions that Python offers us. We learned about errors and other valuable skills that will continue to serve us as we develop our programming skills.\n",
    "\n",
    "Good job!"
   ]
  },
  {
   "cell_type": "markdown",
   "id": "5f95d2b1",
   "metadata": {},
   "source": [
    "#### Instructions\n",
    "\n",
    "1.\n",
    "Create variables:\n",
    "\n",
    "my_age\n",
    "half_my_age\n",
    "greeting\n",
    "name\n",
    "greeting_with_name\n",
    "Assign values to each using your knowledge of division and concatenation!"
   ]
  },
  {
   "cell_type": "markdown",
   "id": "141652cb",
   "metadata": {},
   "source": [
    "### CODE"
   ]
  },
  {
   "cell_type": "code",
   "execution_count": null,
   "id": "5735c9f6",
   "metadata": {},
   "outputs": [],
   "source": [
    "my_age = 30\n",
    "half_my_age = 30/2\n",
    "greeting = \"Hi earthling\"\n",
    "name = \"Saims\"\n",
    "greeting_with_name = greeting + name"
   ]
  },
  {
   "cell_type": "markdown",
   "id": "83cb86c6",
   "metadata": {},
   "source": [
    "                                                .\n",
    "                                                .\n",
    "                                                ."
   ]
  },
  {
   "cell_type": "markdown",
   "id": "ef0682f9",
   "metadata": {},
   "source": [
    "## PROJECT\n",
    "\n",
    "### Block Letters\n",
    "\n",
    "ASCII art is a graphic design technique that uses computers for presentation and consists of pictures pieced together from individual characters.\n",
    "\n",
    "Write a Python program called initials.py that displays the initials of your name in block letters as shown and dip your toes into ASCII art.\n",
    "\n",
    "ASCII art of letters. For example, the ASCII art of the letter F is comprised of 5 characters in the first row, one character in the second and third rows, three characters in the fourth row, and one character in the fifth, sixth, and seventh row. These characters when viewed together look like the letter F\n",
    "\n",
    "Happy coding!\n",
    "\n",
    "https://content.codecademy.com/courses/learn-cpp/hello-world/block-letters.png"
   ]
  },
  {
   "cell_type": "markdown",
   "id": "e4b0b106",
   "metadata": {},
   "source": [
    "#### Tasks\n",
    "\n",
    "##### What we are building in this project:\n",
    "\n",
    "1.\n",
    "Take a look at the complete alphabet and find your initials. Notice how each block letter is 7x5 and formed by the letter itself.\n",
    "\n",
    "My initials are S and L, so my initials.py program should output:\n",
    "\n",
    "\n",
    " SSS   L\n",
    "S   S  L\n",
    "S      L\n",
    " SSS   L\n",
    "    S  L\n",
    "S   S  L\n",
    " SSS   LLLLL\n",
    " \n",
    " \n",
    "Once you are ready, mark this task complete by checking off the box."
   ]
  },
  {
   "cell_type": "markdown",
   "id": "8f2ed8d9",
   "metadata": {},
   "source": [
    "### CODE"
   ]
  },
  {
   "cell_type": "code",
   "execution_count": null,
   "id": "0aadc41b",
   "metadata": {},
   "outputs": [],
   "source": []
  },
  {
   "cell_type": "markdown",
   "id": "686825b7",
   "metadata": {},
   "source": [
    "                                                .\n",
    "                                                .\n",
    "                                                ."
   ]
  },
  {
   "cell_type": "markdown",
   "id": "dbc76393",
   "metadata": {},
   "source": []
  },
  {
   "cell_type": "markdown",
   "id": "75003e61",
   "metadata": {},
   "source": []
  },
  {
   "cell_type": "markdown",
   "id": "47ca7bf4",
   "metadata": {},
   "source": []
  },
  {
   "cell_type": "markdown",
   "id": "c5f24195",
   "metadata": {},
   "source": []
  },
  {
   "cell_type": "markdown",
   "id": "168fa5c4",
   "metadata": {},
   "source": []
  }
 ],
 "metadata": {
  "kernelspec": {
   "display_name": "Python 3 (ipykernel)",
   "language": "python",
   "name": "python3"
  },
  "language_info": {
   "codemirror_mode": {
    "name": "ipython",
    "version": 3
   },
   "file_extension": ".py",
   "mimetype": "text/x-python",
   "name": "python",
   "nbconvert_exporter": "python",
   "pygments_lexer": "ipython3",
   "version": "3.8.10"
  }
 },
 "nbformat": 4,
 "nbformat_minor": 5
}
