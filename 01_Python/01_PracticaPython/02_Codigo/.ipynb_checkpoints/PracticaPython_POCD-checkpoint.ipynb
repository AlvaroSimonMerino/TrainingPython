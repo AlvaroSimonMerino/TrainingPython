{
 "cells": [
  {
   "cell_type": "markdown",
   "id": "2a482c69",
   "metadata": {},
   "source": [
    "## Este es el notebook de la practica de Python, de la asignatura de Programación Orientada a Ciencia de Datos"
   ]
  },
  {
   "cell_type": "markdown",
   "id": "ce7361e3",
   "metadata": {},
   "source": [
    "#### Lo primero es la importación de librerias y carga de datos"
   ]
  },
  {
   "cell_type": "markdown",
   "id": "75ad8d34",
   "metadata": {},
   "source": [
    "### Librerias"
   ]
  },
  {
   "cell_type": "code",
   "execution_count": 3,
   "id": "1b44e8f7",
   "metadata": {},
   "outputs": [],
   "source": [
    "import pandas as pd\n",
    "import numpy as np\n",
    "import matplotlib.pyplot as plt\n",
    "import seaborn as sns"
   ]
  },
  {
   "cell_type": "code",
   "execution_count": null,
   "id": "5e53ba06",
   "metadata": {},
   "outputs": [],
   "source": []
  }
 ],
 "metadata": {
  "kernelspec": {
   "display_name": "Python 3 (ipykernel)",
   "language": "python",
   "name": "python3"
  },
  "language_info": {
   "codemirror_mode": {
    "name": "ipython",
    "version": 3
   },
   "file_extension": ".py",
   "mimetype": "text/x-python",
   "name": "python",
   "nbconvert_exporter": "python",
   "pygments_lexer": "ipython3",
   "version": "3.8.10"
  }
 },
 "nbformat": 4,
 "nbformat_minor": 5
}
